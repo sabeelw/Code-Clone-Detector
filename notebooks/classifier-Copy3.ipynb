{
 "cells": [
  {
   "cell_type": "code",
   "execution_count": 4,
   "id": "b47b0f52",
   "metadata": {},
   "outputs": [],
   "source": [
    "import tensorflow as tf\n",
    "from tensorflow.keras.models import Model\n",
    "from tensorflow.keras.layers import Input, Flatten, Dense, Dropout, Lambda\n",
    "from tensorflow.keras.optimizers import Adam\n",
    "from tensorflow.keras import backend as K\n",
    "import pandas\n",
    "import os\n",
    "import numpy as np\n",
    "import pickle as pk\n",
    "import sklearn as sk\n",
    "os.environ['CUDA_VISIBLE_DEVICES'] = '-1'"
   ]
  },
  {
   "cell_type": "code",
   "execution_count": 5,
   "id": "9d7acbf4",
   "metadata": {},
   "outputs": [
    {
     "name": "stdout",
     "output_type": "stream",
     "text": [
      "[]\n",
      "0 Physical GPU, 0 Logical GPUs\n"
     ]
    },
    {
     "name": "stderr",
     "output_type": "stream",
     "text": [
      "2023-05-23 13:17:36.141258: E tensorflow/compiler/xla/stream_executor/cuda/cuda_driver.cc:266] failed call to cuInit: CUDA_ERROR_NO_DEVICE: no CUDA-capable device is detected\n",
      "2023-05-23 13:17:36.141306: I tensorflow/compiler/xla/stream_executor/cuda/cuda_diagnostics.cc:168] retrieving CUDA diagnostic information for host: Anonymous\n",
      "2023-05-23 13:17:36.141314: I tensorflow/compiler/xla/stream_executor/cuda/cuda_diagnostics.cc:175] hostname: Anonymous\n",
      "2023-05-23 13:17:36.141527: I tensorflow/compiler/xla/stream_executor/cuda/cuda_diagnostics.cc:199] libcuda reported version is: 530.30.2\n",
      "2023-05-23 13:17:36.141560: I tensorflow/compiler/xla/stream_executor/cuda/cuda_diagnostics.cc:203] kernel reported version is: 530.30.2\n",
      "2023-05-23 13:17:36.141567: I tensorflow/compiler/xla/stream_executor/cuda/cuda_diagnostics.cc:309] kernel version seems to match DSO: 530.30.2\n"
     ]
    }
   ],
   "source": [
    "data = pandas.read_csv(\"./../codes/tuke-codes-representation\")\n",
    "data.dropna()\n",
    "data = data[2:]\n",
    "gpus = tf.config.list_physical_devices('GPU')\n",
    "print(gpus)\n",
    "logical_gpus = tf.config.list_logical_devices('GPU')\n",
    "print(len(gpus), \"Physical GPU,\", len(logical_gpus), \"Logical GPUs\")"
   ]
  },
  {
   "cell_type": "code",
   "execution_count": 6,
   "id": "293afe55",
   "metadata": {},
   "outputs": [
    {
     "ename": "ValueError",
     "evalue": "invalid literal for int() with base 10: 'arrays10011-cpg'",
     "output_type": "error",
     "traceback": [
      "\u001b[0;31m---------------------------------------------------------------------------\u001b[0m",
      "\u001b[0;31mValueError\u001b[0m                                Traceback (most recent call last)",
      "Cell \u001b[0;32mIn[6], line 1\u001b[0m\n\u001b[0;32m----> 1\u001b[0m typeMap \u001b[38;5;241m=\u001b[39m {\u001b[38;5;28mint\u001b[39m(data\u001b[38;5;241m.\u001b[39miloc[x,\u001b[38;5;241m0\u001b[39m]\u001b[38;5;241m.\u001b[39msplit(\u001b[38;5;124m\"\u001b[39m\u001b[38;5;124m.\u001b[39m\u001b[38;5;124m\"\u001b[39m)[\u001b[38;5;241m0\u001b[39m]):data\u001b[38;5;241m.\u001b[39miloc[x,\u001b[38;5;241m1\u001b[39m:]\u001b[38;5;241m.\u001b[39mvalues\u001b[38;5;241m.\u001b[39mtolist() \u001b[38;5;28;01mfor\u001b[39;00m x \u001b[38;5;129;01min\u001b[39;00m \u001b[38;5;28mrange\u001b[39m(\u001b[38;5;28mlen\u001b[39m(data))}\n\u001b[1;32m      2\u001b[0m pickle_save \u001b[38;5;241m=\u001b[39m \u001b[38;5;124m\"\u001b[39m\u001b[38;5;124m/home/anonymous/PycharmProjects/thesisPractical/pickle/java-save\u001b[39m\u001b[38;5;124m\"\u001b[39m\n\u001b[1;32m      3\u001b[0m x \u001b[38;5;241m=\u001b[39m []\n",
      "Cell \u001b[0;32mIn[6], line 1\u001b[0m, in \u001b[0;36m<dictcomp>\u001b[0;34m(.0)\u001b[0m\n\u001b[0;32m----> 1\u001b[0m typeMap \u001b[38;5;241m=\u001b[39m {\u001b[38;5;28;43mint\u001b[39;49m\u001b[43m(\u001b[49m\u001b[43mdata\u001b[49m\u001b[38;5;241;43m.\u001b[39;49m\u001b[43miloc\u001b[49m\u001b[43m[\u001b[49m\u001b[43mx\u001b[49m\u001b[43m,\u001b[49m\u001b[38;5;241;43m0\u001b[39;49m\u001b[43m]\u001b[49m\u001b[38;5;241;43m.\u001b[39;49m\u001b[43msplit\u001b[49m\u001b[43m(\u001b[49m\u001b[38;5;124;43m\"\u001b[39;49m\u001b[38;5;124;43m.\u001b[39;49m\u001b[38;5;124;43m\"\u001b[39;49m\u001b[43m)\u001b[49m\u001b[43m[\u001b[49m\u001b[38;5;241;43m0\u001b[39;49m\u001b[43m]\u001b[49m\u001b[43m)\u001b[49m:data\u001b[38;5;241m.\u001b[39miloc[x,\u001b[38;5;241m1\u001b[39m:]\u001b[38;5;241m.\u001b[39mvalues\u001b[38;5;241m.\u001b[39mtolist() \u001b[38;5;28;01mfor\u001b[39;00m x \u001b[38;5;129;01min\u001b[39;00m \u001b[38;5;28mrange\u001b[39m(\u001b[38;5;28mlen\u001b[39m(data))}\n\u001b[1;32m      2\u001b[0m pickle_save \u001b[38;5;241m=\u001b[39m \u001b[38;5;124m\"\u001b[39m\u001b[38;5;124m/home/anonymous/PycharmProjects/thesisPractical/pickle/java-save\u001b[39m\u001b[38;5;124m\"\u001b[39m\n\u001b[1;32m      3\u001b[0m x \u001b[38;5;241m=\u001b[39m []\n",
      "\u001b[0;31mValueError\u001b[0m: invalid literal for int() with base 10: 'arrays10011-cpg'"
     ]
    }
   ],
   "source": [
    "typeMap = {int(data.iloc[x,0].split(\".\")[0]):data.iloc[x,1:].values.tolist() for x in range(len(data))}\n",
    "pickle_save = \"/home/anonymous/PycharmProjects/thesisPractical/pickle/java-save\"\n",
    "x = []\n",
    "y = []\n",
    "\n",
    "with open(f\"{pickle_save}/data.pkl\", \"rb\") as d:\n",
    "    da = pandas.read_pickle(d)\n",
    "    for j in da:\n",
    "        for i in j.values:\n",
    "            if typeMap.get(i[0], 0) and typeMap.get(i[1], 0):\n",
    "                x.append([typeMap[i[0]], typeMap[i[1]]])\n",
    "                y.append(True)\n",
    "with open(f\"{pickle_save}/false/data.pkl\", \"rb\") as d:\n",
    "    da = pandas.read_pickle(d)\n",
    "    for j in da:\n",
    "        for i in j.values:\n",
    "            if typeMap.get(i[0],0) and typeMap.get(i[1],0):\n",
    "                x.append([typeMap[i[0]], typeMap[i[1]]])\n",
    "                y.append(False)"
   ]
  },
  {
   "cell_type": "code",
   "execution_count": 7,
   "id": "e10b35d5",
   "metadata": {},
   "outputs": [
    {
     "ename": "NameError",
     "evalue": "name 'x' is not defined",
     "output_type": "error",
     "traceback": [
      "\u001b[0;31m---------------------------------------------------------------------------\u001b[0m",
      "\u001b[0;31mNameError\u001b[0m                                 Traceback (most recent call last)",
      "Cell \u001b[0;32mIn[7], line 3\u001b[0m\n\u001b[1;32m      1\u001b[0m tf\u001b[38;5;241m.\u001b[39mrandom\u001b[38;5;241m.\u001b[39mset_seed(\u001b[38;5;241m12\u001b[39m)\n\u001b[1;32m      2\u001b[0m tf\u001b[38;5;241m.\u001b[39mkeras\u001b[38;5;241m.\u001b[39mbackend\u001b[38;5;241m.\u001b[39mclear_session()\n\u001b[0;32m----> 3\u001b[0m x \u001b[38;5;241m=\u001b[39m np\u001b[38;5;241m.\u001b[39marray(\u001b[43mx\u001b[49m)\u001b[38;5;241m.\u001b[39mastype(\u001b[38;5;124m\"\u001b[39m\u001b[38;5;124mfloat64\u001b[39m\u001b[38;5;124m\"\u001b[39m)\n\u001b[1;32m      4\u001b[0m y \u001b[38;5;241m=\u001b[39m np\u001b[38;5;241m.\u001b[39marray(y)\u001b[38;5;241m.\u001b[39mastype(\u001b[38;5;124m\"\u001b[39m\u001b[38;5;124mint\u001b[39m\u001b[38;5;124m\"\u001b[39m)\n\u001b[1;32m      6\u001b[0m \u001b[38;5;28;01mfrom\u001b[39;00m \u001b[38;5;21;01msklearn\u001b[39;00m\u001b[38;5;21;01m.\u001b[39;00m\u001b[38;5;21;01mmodel_selection\u001b[39;00m \u001b[38;5;28;01mimport\u001b[39;00m train_test_split\n",
      "\u001b[0;31mNameError\u001b[0m: name 'x' is not defined"
     ]
    }
   ],
   "source": [
    "tf.random.set_seed(12)\n",
    "tf.keras.backend.clear_session()\n",
    "x = np.array(x).astype(\"float64\")\n",
    "y = np.array(y).astype(\"int\")\n",
    "\n",
    "from sklearn.model_selection import train_test_split\n",
    "x_train, x_test, y_train, y_test = train_test_split(x, y, test_size=0.3, random_state=23,shuffle=True)\n",
    "x_train_0 = np.array([x[0] for x in x_train])\n",
    "x_train_1 = np.array([x[1] for x in x_train])\n",
    "x_test_0 = np.array([x[0] for x in x_train])\n",
    "x_test_1 = np.array([x[1] for x in x_train])\n",
    "\n",
    "def euclidean_distance(vects):\n",
    "    x, y = vects\n",
    "    sum_square = tf.reduce_sum(tf.square(x - y), axis=1, keepdims=True)\n",
    "    return tf.sqrt(tf.maximum(sum_square, tf.keras.backend.epsilon()))\n",
    "\n",
    "def create_network(input_size):\n",
    "    # Define the tensors for the two input images\n",
    "    input_1 = Input(shape=(input_size,))\n",
    "    input_2 = Input(shape=(input_size,))\n",
    "\n",
    "    # Neural Network\n",
    "    model = tf.keras.Sequential()\n",
    "    model.add(Dense(128, activation='relu', input_shape=(input_size,)))\n",
    "    model.add(Dropout(0.1))\n",
    "    model.add(Dense(128, activation='relu'))\n",
    "    model.add(Dropout(0.1))\n",
    "    model.add(Dense(128, activation='relu'))\n",
    "\n",
    "    # Generate the encodings (feature vectors) for the two images\n",
    "    encoded_1 = model(input_1)\n",
    "    encoded_2 = model(input_2)\n",
    "\n",
    "    # Add a customized layer to compute the Euclidean distance between the encodings\n",
    "    distance = Lambda(euclidean_distance)([encoded_1, encoded_2])\n",
    "\n",
    "    # Add a dense layer with a sigmoid unit to generate the similarity score\n",
    "    prediction = Dense(1, activation='sigmoid')(distance)\n",
    "\n",
    "    # Connect the inputs with the outputs\n",
    "    siamese_net = Model(inputs=[input_1, input_2], outputs=prediction)\n",
    "\n",
    "    # return the model\n",
    "    return siamese_net\n",
    "\n",
    "# Create the siamese network\n",
    "siamese_net = create_network(16)\n",
    "\n",
    "# Compile the model\n",
    "siamese_net.compile(loss='binary_crossentropy', optimizer='adam', metrics=['accuracy'])\n",
    "\n",
    "# Print the model summary\n",
    "siamese_net.summary()"
   ]
  },
  {
   "cell_type": "code",
   "execution_count": 22,
   "id": "b83fed71",
   "metadata": {},
   "outputs": [
    {
     "name": "stdout",
     "output_type": "stream",
     "text": [
      "Epoch 1/40\n",
      "260/260 [==============================] - 1s 2ms/step - loss: 0.0257 - accuracy: 0.9951\n",
      "Epoch 2/40\n",
      "260/260 [==============================] - 1s 2ms/step - loss: 0.0075 - accuracy: 0.9993\n",
      "Epoch 3/40\n",
      "260/260 [==============================] - 1s 2ms/step - loss: 0.0125 - accuracy: 0.9992\n",
      "Epoch 4/40\n",
      "260/260 [==============================] - 1s 2ms/step - loss: 0.0133 - accuracy: 0.9996\n",
      "Epoch 5/40\n",
      "260/260 [==============================] - 1s 3ms/step - loss: 1.0919e-15 - accuracy: 1.0000\n",
      "Epoch 6/40\n",
      "260/260 [==============================] - 1s 2ms/step - loss: 1.0919e-15 - accuracy: 1.0000\n",
      "Epoch 7/40\n",
      "260/260 [==============================] - 1s 2ms/step - loss: 1.0919e-15 - accuracy: 1.0000\n",
      "Epoch 8/40\n",
      "260/260 [==============================] - 1s 2ms/step - loss: 1.0919e-15 - accuracy: 1.0000\n",
      "Epoch 9/40\n",
      "260/260 [==============================] - 1s 2ms/step - loss: 1.0919e-15 - accuracy: 1.0000\n",
      "Epoch 10/40\n",
      "260/260 [==============================] - 1s 3ms/step - loss: 1.0919e-15 - accuracy: 1.0000\n",
      "Epoch 11/40\n",
      "260/260 [==============================] - 1s 2ms/step - loss: 1.0919e-15 - accuracy: 1.0000\n",
      "Epoch 12/40\n",
      "260/260 [==============================] - 1s 2ms/step - loss: 1.0919e-15 - accuracy: 1.0000\n",
      "Epoch 13/40\n",
      "260/260 [==============================] - 1s 2ms/step - loss: 1.0919e-15 - accuracy: 1.0000\n",
      "Epoch 14/40\n",
      "260/260 [==============================] - 1s 2ms/step - loss: 1.0919e-15 - accuracy: 1.0000\n",
      "Epoch 15/40\n",
      "260/260 [==============================] - 1s 2ms/step - loss: 1.0919e-15 - accuracy: 1.0000\n",
      "Epoch 16/40\n",
      "260/260 [==============================] - 1s 2ms/step - loss: 1.0919e-15 - accuracy: 1.0000\n",
      "Epoch 17/40\n",
      "260/260 [==============================] - 1s 2ms/step - loss: 1.0919e-15 - accuracy: 1.0000\n",
      "Epoch 18/40\n",
      "260/260 [==============================] - 1s 2ms/step - loss: 1.0919e-15 - accuracy: 1.0000\n",
      "Epoch 19/40\n",
      "260/260 [==============================] - 1s 2ms/step - loss: 1.0919e-15 - accuracy: 1.0000\n",
      "Epoch 20/40\n",
      "260/260 [==============================] - 1s 2ms/step - loss: 1.0919e-15 - accuracy: 1.0000\n",
      "Epoch 21/40\n",
      "260/260 [==============================] - 1s 2ms/step - loss: 1.0919e-15 - accuracy: 1.0000\n",
      "Epoch 22/40\n",
      "260/260 [==============================] - 1s 2ms/step - loss: 1.0919e-15 - accuracy: 1.0000\n",
      "Epoch 23/40\n",
      "260/260 [==============================] - 1s 2ms/step - loss: 1.0919e-15 - accuracy: 1.0000\n",
      "Epoch 24/40\n",
      "260/260 [==============================] - 1s 2ms/step - loss: 1.0919e-15 - accuracy: 1.0000\n",
      "Epoch 25/40\n",
      "260/260 [==============================] - 1s 3ms/step - loss: 1.0919e-15 - accuracy: 1.0000\n",
      "Epoch 26/40\n",
      "260/260 [==============================] - 1s 3ms/step - loss: 1.0919e-15 - accuracy: 1.0000\n",
      "Epoch 27/40\n",
      "260/260 [==============================] - 1s 2ms/step - loss: 1.0919e-15 - accuracy: 1.0000\n",
      "Epoch 28/40\n",
      "260/260 [==============================] - 1s 2ms/step - loss: 1.0919e-15 - accuracy: 1.0000\n",
      "Epoch 29/40\n",
      "260/260 [==============================] - 1s 2ms/step - loss: 1.0919e-15 - accuracy: 1.0000\n",
      "Epoch 30/40\n",
      "260/260 [==============================] - 1s 3ms/step - loss: 1.0919e-15 - accuracy: 1.0000\n",
      "Epoch 31/40\n",
      "260/260 [==============================] - 1s 3ms/step - loss: 1.0919e-15 - accuracy: 1.0000\n",
      "Epoch 32/40\n",
      "260/260 [==============================] - 1s 2ms/step - loss: 1.0919e-15 - accuracy: 1.0000\n",
      "Epoch 33/40\n",
      "260/260 [==============================] - 1s 3ms/step - loss: 1.0919e-15 - accuracy: 1.0000\n",
      "Epoch 34/40\n",
      "260/260 [==============================] - 1s 2ms/step - loss: 1.0919e-15 - accuracy: 1.0000\n",
      "Epoch 35/40\n",
      "260/260 [==============================] - 1s 2ms/step - loss: 1.0919e-15 - accuracy: 1.0000\n",
      "Epoch 36/40\n",
      "260/260 [==============================] - 1s 3ms/step - loss: 1.0919e-15 - accuracy: 1.0000\n",
      "Epoch 37/40\n",
      "260/260 [==============================] - 1s 2ms/step - loss: 1.0919e-15 - accuracy: 1.0000\n",
      "Epoch 38/40\n",
      "260/260 [==============================] - 1s 2ms/step - loss: 1.0919e-15 - accuracy: 1.0000\n",
      "Epoch 39/40\n",
      "260/260 [==============================] - 1s 2ms/step - loss: 1.0919e-15 - accuracy: 1.0000\n",
      "Epoch 40/40\n",
      "260/260 [==============================] - 1s 2ms/step - loss: 1.0919e-15 - accuracy: 1.0000\n"
     ]
    }
   ],
   "source": [
    "history = model.fit([x_train_0,x_train_1], y_train, epochs=40)"
   ]
  },
  {
   "cell_type": "code",
   "execution_count": 8,
   "id": "2c10716a",
   "metadata": {},
   "outputs": [
    {
     "ename": "NameError",
     "evalue": "name 'model' is not defined",
     "output_type": "error",
     "traceback": [
      "\u001b[0;31m---------------------------------------------------------------------------\u001b[0m",
      "\u001b[0;31mNameError\u001b[0m                                 Traceback (most recent call last)",
      "Cell \u001b[0;32mIn[8], line 1\u001b[0m\n\u001b[0;32m----> 1\u001b[0m y_pred \u001b[38;5;241m=\u001b[39m \u001b[43mmodel\u001b[49m\u001b[38;5;241m.\u001b[39mevaluate([left_x_test, right_x_test],right_y_test)\n",
      "\u001b[0;31mNameError\u001b[0m: name 'model' is not defined"
     ]
    }
   ],
   "source": [
    "\n",
    "y_pred = model.evaluate([left_x_test, right_x_test],right_y_test)\n"
   ]
  },
  {
   "cell_type": "code",
   "execution_count": null,
   "id": "cfb2a828",
   "metadata": {},
   "outputs": [],
   "source": [
    "from sklearn.metrics import classification_report, roc_auc_score, roc_curve, auc\n",
    "import matplotlib.pyplot as plt\n",
    "\n",
    "# Assuming that 'model' is your trained model and 'X_test', 'y_test' are your test data.\n",
    "\n",
    "# Predict the probabilities for the test data\n",
    "y_pred_prob = model.predict([left_x_test, right_x_test]).ravel()\n",
    "\n",
    "# Predict the classes for the test data\n",
    "y_pred = np.round(y_pred_prob)\n",
    "\n",
    "# Print precision, recall, and F1-score\n",
    "print(classification_report(left_y_test, y_pred))\n",
    "\n",
    "# Calculate AUC-ROC\n",
    "roc_auc = roc_auc_score(left_y_test, y_pred_prob)\n",
    "print(\"AUC-ROC:\", roc_auc)\n",
    "\n",
    "# Calculate ROC curve\n",
    "fpr, tpr, thresholds = roc_curve(left_y_test, y_pred_prob)\n",
    "\n",
    "# Plot ROC curve\n",
    "plt.figure()\n",
    "lw = 2  # Line width\n",
    "plt.plot(fpr, tpr, color='darkorange', lw=lw, label='ROC curve (area = %0.2f)' % roc_auc)\n",
    "plt.plot([0, 1], [0, 1], color='navy', lw=lw, linestyle='--')\n",
    "plt.xlim([0.0, 1.0])\n",
    "plt.ylim([0.0, 1.05])\n",
    "plt.xlabel('False Positive Rate')\n",
    "plt.ylabel('True Positive Rate')\n",
    "plt.title('Receiver Operating Characteristic')\n",
    "plt.legend(loc=\"lower right\")\n",
    "plt.show()"
   ]
  },
  {
   "cell_type": "code",
   "execution_count": null,
   "id": "22e69733",
   "metadata": {},
   "outputs": [],
   "source": [
    "import matplotlib.pyplot as plt\n",
    "\n",
    "# Assuming that 'model' is your trained model, and 'history' is the returned History object from model.fit\n",
    "# e.g., history = model.fit(x_train, y_train, validation_data=(x_val, y_val), epochs=20)\n",
    "\n",
    "# Plot training & validation accuracy values\n",
    "plt.figure(figsize=(12,6))\n",
    "plt.subplot(1, 2, 1)\n",
    "plt.plot(history.history['accuracy'])\n",
    "plt.plot(history.history['val_accuracy'])\n",
    "plt.title('Model accuracy')\n",
    "plt.ylabel('Accuracy')\n",
    "plt.xlabel('Epoch')\n",
    "plt.legend(['Train', 'Validation'], loc='upper left')\n",
    "\n",
    "# Plot training & validation loss values\n",
    "plt.subplot(1, 2, 2)\n",
    "plt.plot(history.history['loss'])\n",
    "plt.plot(history.history['val_loss'])\n",
    "plt.title('Model loss')\n",
    "plt.ylabel('Loss')\n",
    "plt.xlabel('Epoch')\n",
    "plt.legend(['Train', 'Validation'], loc='upper left')\n",
    "\n",
    "plt.tight_layout()\n",
    "plt.show()"
   ]
  },
  {
   "cell_type": "code",
   "execution_count": null,
   "id": "1f99ee05",
   "metadata": {},
   "outputs": [],
   "source": []
  }
 ],
 "metadata": {
  "kernelspec": {
   "display_name": "Python [conda env:tf]",
   "language": "python",
   "name": "conda-env-tf-py"
  },
  "language_info": {
   "codemirror_mode": {
    "name": "ipython",
    "version": 3
   },
   "file_extension": ".py",
   "mimetype": "text/x-python",
   "name": "python",
   "nbconvert_exporter": "python",
   "pygments_lexer": "ipython3",
   "version": "3.9.16"
  }
 },
 "nbformat": 4,
 "nbformat_minor": 5
}
