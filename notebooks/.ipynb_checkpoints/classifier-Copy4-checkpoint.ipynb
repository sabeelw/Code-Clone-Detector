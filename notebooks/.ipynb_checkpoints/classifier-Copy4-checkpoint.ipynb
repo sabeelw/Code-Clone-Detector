{
 "cells": [
  {
   "cell_type": "code",
   "execution_count": null,
   "id": "b47b0f52",
   "metadata": {},
   "outputs": [],
   "source": [
    "import tensorflow as tf\n",
    "from tensorflow.keras.models import Model\n",
    "from tensorflow.keras.layers import Input, Flatten, Dense, Dropout, Lambda\n",
    "from tensorflow.keras.optimizers import Adam\n",
    "from tensorflow.keras import backend as K\n",
    "import pandas\n",
    "import os\n",
    "import numpy as np\n",
    "import pickle as pk\n",
    "import sklearn as sk\n",
    "os.environ['CUDA_VISIBLE_DEVICES'] = '-1'"
   ]
  },
  {
   "cell_type": "code",
   "execution_count": null,
   "id": "9d7acbf4",
   "metadata": {},
   "outputs": [],
   "source": [
    "data = pandas.read_csv(\"./../codes/tuke-codes-representation\")\n",
    "data.dropna()\n",
    "data = data[2:]\n",
    "gpus = tf.config.list_physical_devices('GPU')\n",
    "print(gpus)\n",
    "logical_gpus = tf.config.list_logical_devices('GPU')\n",
    "print(len(gpus), \"Physical GPU,\", len(logical_gpus), \"Logical GPUs\")"
   ]
  },
  {
   "cell_type": "code",
   "execution_count": null,
   "id": "293afe55",
   "metadata": {},
   "outputs": [],
   "source": [
    "typeMap = {}\n",
    "c = 1\n",
    "for i in range(data.shape[0]):\n",
    "    file = \"\".join(filter(str.isalpha, data.iloc[i,0].split(\".\")[0]))\n",
    "    funcName = data.iloc[i,0].split(\".\")[-2]\n",
    "    if not typeMap.get(file+funcName, 0):\n",
    "        typeMap[file+funcName] = c\n",
    "        c += 1\n",
    "    data.iloc[i,0] = typeMap[file+funcName]\n",
    "data.head()"
   ]
  },
  {
   "cell_type": "code",
   "execution_count": null,
   "id": "a355364a",
   "metadata": {},
   "outputs": [],
   "source": [
    "frames = [data.loc[data[\"type\"] == x].iloc[0:,1:].values.tolist() for x in range(1,594)]\n",
    "with open(\"data.pkl\", \"wb\") as d:\n",
    "    pk.dump(frames, d)\n",
    "    d.close()"
   ]
  },
  {
   "cell_type": "code",
   "execution_count": null,
   "id": "49296f48",
   "metadata": {},
   "outputs": [],
   "source": [
    "x = []\n",
    "y = []\n",
    "for i in frames[1:]:\n",
    "    for j in frames[1:]:\n",
    "        minlen = min(len(i), len(j))\n",
    "        truthy = i == j\n",
    "        for k in range(minlen):\n",
    "            x.append([i[k],j[k]])\n",
    "            y.append(truthy)"
   ]
  },
  {
   "cell_type": "code",
   "execution_count": null,
   "id": "e10b35d5",
   "metadata": {},
   "outputs": [],
   "source": [
    "tf.random.set_seed(12)\n",
    "tf.keras.backend.clear_session()\n",
    "x = np.array(x).astype(\"float64\")\n",
    "y = np.array(y).astype(\"int\")\n",
    "\n",
    "from sklearn.model_selection import train_test_split\n",
    "x_train, x_test, y_train, y_test = train_test_split(x, y, test_size=0.3, random_state=23,shuffle=True)\n",
    "x_train_0 = np.array([x[0] for x in x_train])\n",
    "x_train_1 = np.array([x[1] for x in x_train])\n",
    "x_test_0 = np.array([x[0] for x in x_train])\n",
    "x_test_1 = np.array([x[1] for x in x_train])\n",
    "\n",
    "def euclidean_distance(vects):\n",
    "    x, y = vects\n",
    "    sum_square = tf.reduce_sum(tf.square(x - y), axis=1, keepdims=True)\n",
    "    return tf.sqrt(tf.maximum(sum_square, tf.keras.backend.epsilon()))\n",
    "\n",
    "def create_network(input_size):\n",
    "    # Define the tensors for the two input images\n",
    "    input_1 = Input(shape=(input_size,))\n",
    "    input_2 = Input(shape=(input_size,))\n",
    "\n",
    "    # Neural Network\n",
    "    model = tf.keras.Sequential()\n",
    "    model.add(Flatten(input_shape=(input_size,)))\n",
    "    model.add(Dense(64, activation='relu'))\n",
    "    model.add(Dropout(0.5))\n",
    "    model.add(Dense(32, activation='relu'))\n",
    "\n",
    "    # Generate the encodings (feature vectors) for the two images\n",
    "    encoded_1 = model(input_1)\n",
    "    encoded_2 = model(input_2)\n",
    "\n",
    "    # Add a customized layer to compute the Euclidean distance between the encodings\n",
    "    distance = Lambda(euclidean_distance)([encoded_1, encoded_2])\n",
    "\n",
    "    # Add a dense layer with a sigmoid unit to generate the similarity score\n",
    "    prediction = Dense(1, activation='sigmoid')(distance)\n",
    "\n",
    "    # Connect the inputs with the outputs\n",
    "    siamese_net = Model(inputs=[input_1, input_2], outputs=prediction)\n",
    "\n",
    "    # return the model\n",
    "    return siamese_net\n",
    "\n",
    "# Create the siamese network\n",
    "model = create_network(16)\n",
    "\n",
    "# Compile the model\n",
    "model.compile(loss='binary_crossentropy', optimizer=tf.keras.optimizers.Adam(learning_rate=0.0001), metrics=['accuracy'])\n",
    "\n",
    "# Print the model summary\n",
    "model.summary()"
   ]
  },
  {
   "cell_type": "code",
   "execution_count": null,
   "id": "b83fed71",
   "metadata": {},
   "outputs": [],
   "source": [
    "history = model.fit([x_train_0,x_train_1], y_train,validation_data=([x_test_0,x_test_1],y_test), epochs=40)"
   ]
  },
  {
   "cell_type": "code",
   "execution_count": null,
   "id": "2c10716a",
   "metadata": {},
   "outputs": [],
   "source": [
    "\n",
    "y_pred = model.evaluate([left_x_test, right_x_test],right_y_test)\n"
   ]
  },
  {
   "cell_type": "code",
   "execution_count": null,
   "id": "cfb2a828",
   "metadata": {},
   "outputs": [],
   "source": [
    "from sklearn.metrics import classification_report, roc_auc_score, roc_curve, auc\n",
    "import matplotlib.pyplot as plt\n",
    "\n",
    "# Assuming that 'model' is your trained model and 'X_test', 'y_test' are your test data.\n",
    "\n",
    "# Predict the probabilities for the test data\n",
    "y_pred_prob = model.predict([left_x_test, right_x_test]).ravel()\n",
    "\n",
    "# Predict the classes for the test data\n",
    "y_pred = np.round(y_pred_prob)\n",
    "\n",
    "# Print precision, recall, and F1-score\n",
    "print(classification_report(left_y_test, y_pred))\n",
    "\n",
    "# Calculate AUC-ROC\n",
    "roc_auc = roc_auc_score(left_y_test, y_pred_prob)\n",
    "print(\"AUC-ROC:\", roc_auc)\n",
    "\n",
    "# Calculate ROC curve\n",
    "fpr, tpr, thresholds = roc_curve(left_y_test, y_pred_prob)\n",
    "\n",
    "# Plot ROC curve\n",
    "plt.figure()\n",
    "lw = 2  # Line width\n",
    "plt.plot(fpr, tpr, color='darkorange', lw=lw, label='ROC curve (area = %0.2f)' % roc_auc)\n",
    "plt.plot([0, 1], [0, 1], color='navy', lw=lw, linestyle='--')\n",
    "plt.xlim([0.0, 1.0])\n",
    "plt.ylim([0.0, 1.05])\n",
    "plt.xlabel('False Positive Rate')\n",
    "plt.ylabel('True Positive Rate')\n",
    "plt.title('Receiver Operating Characteristic')\n",
    "plt.legend(loc=\"lower right\")\n",
    "plt.show()"
   ]
  },
  {
   "cell_type": "code",
   "execution_count": null,
   "id": "22e69733",
   "metadata": {},
   "outputs": [],
   "source": [
    "import matplotlib.pyplot as plt\n",
    "\n",
    "# Assuming that 'model' is your trained model, and 'history' is the returned History object from model.fit\n",
    "# e.g., history = model.fit(x_train, y_train, validation_data=(x_val, y_val), epochs=20)\n",
    "\n",
    "# Plot training & validation accuracy values\n",
    "plt.figure(figsize=(12,6))\n",
    "plt.subplot(1, 2, 1)\n",
    "plt.plot(history.history['accuracy'])\n",
    "plt.plot(history.history['val_accuracy'])\n",
    "plt.title('Model accuracy')\n",
    "plt.ylabel('Accuracy')\n",
    "plt.xlabel('Epoch')\n",
    "plt.legend(['Train', 'Validation'], loc='upper left')\n",
    "\n",
    "# Plot training & validation loss values\n",
    "plt.subplot(1, 2, 2)\n",
    "plt.plot(history.history['loss'])\n",
    "plt.plot(history.history['val_loss'])\n",
    "plt.title('Model loss')\n",
    "plt.ylabel('Loss')\n",
    "plt.xlabel('Epoch')\n",
    "plt.legend(['Train', 'Validation'], loc='upper left')\n",
    "\n",
    "plt.tight_layout()\n",
    "plt.show()"
   ]
  },
  {
   "cell_type": "code",
   "execution_count": null,
   "id": "1f99ee05",
   "metadata": {},
   "outputs": [],
   "source": []
  }
 ],
 "metadata": {
  "kernelspec": {
   "display_name": "Python [conda env:tf]",
   "language": "python",
   "name": "conda-env-tf-py"
  },
  "language_info": {
   "codemirror_mode": {
    "name": "ipython",
    "version": 3
   },
   "file_extension": ".py",
   "mimetype": "text/x-python",
   "name": "python",
   "nbconvert_exporter": "python",
   "pygments_lexer": "ipython3",
   "version": "3.9.16"
  }
 },
 "nbformat": 4,
 "nbformat_minor": 5
}
